{
 "cells": [
  {
   "cell_type": "markdown",
   "metadata": {},
   "source": [
    "# Grade Converter\n",
    "This program accepts a score between 0-100, and convert it to a letter grade\n",
    "91~100\tA\n",
    "81~90\tB\n",
    "71~80\tC\n",
    "<=70\tF\n",
    "other\tinvalid\n",
    "\n",
    "Input: numeric score\n",
    "Output: letter grade\n",
    "\n",
    "Author:\n",
    "Date:"
   ]
  },
  {
   "cell_type": "code",
   "execution_count": null,
   "metadata": {},
   "outputs": [],
   "source": [
    "# print program purpose\n",
    "print('This program converts a numeric score to letter grade.')\n",
    "\n",
    "# get user input\n",
    "print('Please enter a score between 1-100: ')\n",
    "score = int(input())\n",
    "\n",
    "# verify user input is between 0 and 100\n",
    "if score >100 or score < 0:\n",
    "    grade = 'invalid'\n",
    "\n",
    "# pass the checking,    \n",
    "# if the score is between 91 and 100\n",
    "\n",
    "\n",
    "\n",
    "# if the score is between 81 and 90\n",
    "\n",
    "\n",
    "\n",
    "# if the score is between 71 and 80\n",
    "\n",
    "\n",
    "\n",
    "# if the score is less than or equals to 70\n",
    "\n",
    "\n",
    "\n",
    "# show result\n",
    "print('The letter grade is '+grade)\n"
   ]
  }
 ],
 "metadata": {
  "kernelspec": {
   "display_name": "Python 3",
   "language": "python",
   "name": "python3"
  },
  "language_info": {
   "codemirror_mode": {
    "name": "ipython",
    "version": 3
   },
   "file_extension": ".py",
   "mimetype": "text/x-python",
   "name": "python",
   "nbconvert_exporter": "python",
   "pygments_lexer": "ipython3",
   "version": "3.7.3"
  }
 },
 "nbformat": 4,
 "nbformat_minor": 2
}
